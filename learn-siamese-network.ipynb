{
 "cells": [
  {
   "cell_type": "code",
   "execution_count": 1,
   "metadata": {},
   "outputs": [],
   "source": [
    "import tensorflow as tf\n",
    "import numpy as np\n",
    "import matplotlib.pyplot as plt"
   ]
  },
  {
   "cell_type": "code",
   "execution_count": 2,
   "metadata": {},
   "outputs": [
    {
     "name": "stdout",
     "output_type": "stream",
     "text": [
      "Downloading data from https://www.cs.toronto.edu/~kriz/cifar-10-python.tar.gz\n",
      "170498071/170498071 [==============================] - 665s 4us/step\n"
     ]
    }
   ],
   "source": [
    "# load CIFAR-10 data\n",
    "(X_train, y_train), (X_test, y_test) = tf.keras.datasets.cifar10.load_data()\n",
    "\n",
    "# check data size\n",
    "assert X_train.shape == (50000, 32, 32, 3)\n",
    "assert X_test.shape == (10000, 32, 32, 3)\n",
    "assert y_train.shape == (50000, 1)\n",
    "assert y_test.shape == (10000, 1)"
   ]
  },
  {
   "cell_type": "code",
   "execution_count": null,
   "metadata": {},
   "outputs": [],
   "source": [
    "# combine data first - we will generate test set later.\n",
    "X = np.concatenate([X_train,X_test],axis=0)\n",
    "y = np.concatenate([y_train,y_test],axis=0)\n",
    "y = np.squeeze(y)\n",
    "\n",
    "assert X.shape == (60000, 32, 32, 3)\n",
    "assert y.shape == (60000,)"
   ]
  },
  {
   "cell_type": "code",
   "execution_count": null,
   "metadata": {},
   "outputs": [],
   "source": [
    "# check number of data in each class\n",
    "unique, counts = np.unique(y,return_counts=True)\n",
    "np.asarray([unique,counts]).T"
   ]
  },
  {
   "cell_type": "code",
   "execution_count": null,
   "metadata": {},
   "outputs": [],
   "source": [
    "# Plot Class N (0-9)\n",
    "\n",
    "TARGET = # Class index here\n",
    "NUM_ARRAYS = 10\n",
    "\n",
    "arrays = X[np.where(y==TARGET)]\n",
    "random_arrays_indices = np.random.choice(len(arrays),NUM_ARRAYS)\n",
    "random_arrays = arrays[random_arrays_indices]\n",
    "\n",
    "fig = plt.figure(figsize=[NUM_ARRAYS,4])\n",
    "plt.title('Class 0: Plane',fontsize = 15)\n",
    "plt.axis('off')\n",
    "\n",
    "for index in range(NUM_ARRAYS):\n",
    "     fig.add_subplot(2, int(NUM_ARRAYS/2), index+1)\n",
    "     plt.imshow(random_arrays[index])\n"
   ]
  },
  {
   "cell_type": "code",
   "execution_count": null,
   "metadata": {},
   "outputs": [],
   "source": [
    "# initialize triplets array\n",
    "triplets = np.empty((0,3,32,32,3),dtype=np.uint8)\n",
    "\n",
    "# get triplets for each class\n",
    "for target in range(10):\n",
    "\n",
    "    locals()['arrays_'+str(target)] = X[np.where(y==target)].reshape(3000,2,32,32,3)\n",
    "    locals()['arrays_not_'+str(target)] = X[np.where(y!=target)]\n",
    "\n",
    "    random_indices = np.random.choice(len(locals()['arrays_not_'+str(target)]),3000)\n",
    "    locals()['arrays_not_'+str(target)] = locals()['arrays_not_'+str(target)][random_indices]\n",
    "\n",
    "    locals()['arrays_'+str(target)] = np.concatenate(\n",
    "        [\n",
    "            locals()['arrays_'+str(target)],\n",
    "            locals()['arrays_not_'+str(target)].reshape(3000,1,32,32,3)\n",
    "        ],\n",
    "        axis = 1\n",
    "    )\n",
    "\n",
    "    triplets = np.concatenate([triplets,locals()['arrays_'+str(target)]],axis=0)\n",
    "\n",
    "# check triplets size\n",
    "assert triplets.shape == (30000,3,32,32,3)\n",
    "\n",
    "# plot triplets array to visualize\n",
    "TEST_SIZE = 5\n",
    "random_indices = np.random.choice(len(triplets),TEST_SIZE)\n",
    "\n",
    "fig = plt.figure(figsize=[5,2*TEST_SIZE])\n",
    "plt.title('ANCHOR | POSITIVE | NEGATIVE',fontsize = 15)\n",
    "plt.axis('off')\n",
    "\n",
    "for row,i in enumerate(range(0,TEST_SIZE*3,3)):\n",
    "    for j in range(1,4):\n",
    "        fig.add_subplot(TEST_SIZE, 3, i+j)\n",
    "        random_index = random_indices[row]\n",
    "        plt.imshow(triplets[random_index,j-1])\n",
    "\n",
    "# save triplet array\n",
    "np.save('triplets_array.npy',triplets)"
   ]
  }
 ],
 "metadata": {
  "kernelspec": {
   "display_name": "tf",
   "language": "python",
   "name": "python3"
  },
  "language_info": {
   "codemirror_mode": {
    "name": "ipython",
    "version": 3
   },
   "file_extension": ".py",
   "mimetype": "text/x-python",
   "name": "python",
   "nbconvert_exporter": "python",
   "pygments_lexer": "ipython3",
   "version": "3.10.11"
  },
  "orig_nbformat": 4
 },
 "nbformat": 4,
 "nbformat_minor": 2
}
